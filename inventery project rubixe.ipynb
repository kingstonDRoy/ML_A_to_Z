{
 "cells": [
  {
   "cell_type": "code",
   "execution_count": 1,
   "metadata": {},
   "outputs": [],
   "source": [
    "import pandas as pd\n",
    "import matplotlib.pyplot as plt\n",
    "import numpy as np\n",
    "from pandas import datetime"
   ]
  },
  {
   "cell_type": "code",
   "execution_count": 2,
   "metadata": {},
   "outputs": [
    {
     "data": {
      "text/html": [
       "<div>\n",
       "<style scoped>\n",
       "    .dataframe tbody tr th:only-of-type {\n",
       "        vertical-align: middle;\n",
       "    }\n",
       "\n",
       "    .dataframe tbody tr th {\n",
       "        vertical-align: top;\n",
       "    }\n",
       "\n",
       "    .dataframe thead th {\n",
       "        text-align: right;\n",
       "    }\n",
       "</style>\n",
       "<table border=\"1\" class=\"dataframe\">\n",
       "  <thead>\n",
       "    <tr style=\"text-align: right;\">\n",
       "      <th></th>\n",
       "      <th>Invoice Date</th>\n",
       "      <th>Job Card Date</th>\n",
       "      <th>Business Partner Name</th>\n",
       "      <th>Vehicle No.</th>\n",
       "      <th>Vehicle Model</th>\n",
       "      <th>Current KM Reading</th>\n",
       "      <th>INVOICE LINE TEXT</th>\n",
       "    </tr>\n",
       "  </thead>\n",
       "  <tbody>\n",
       "    <tr>\n",
       "      <td>0</td>\n",
       "      <td>2017-05-30</td>\n",
       "      <td>2017-05-30</td>\n",
       "      <td>shivXXXXXXXXXX</td>\n",
       "      <td>KA03MFXXXX</td>\n",
       "      <td>BAJAJ AVENGER STREET 220</td>\n",
       "      <td>50000.0</td>\n",
       "      <td>ENGINE OIL</td>\n",
       "    </tr>\n",
       "    <tr>\n",
       "      <td>1</td>\n",
       "      <td>2017-06-02</td>\n",
       "      <td>2017-05-31</td>\n",
       "      <td>KIRAXXXXXXXXXX</td>\n",
       "      <td>KA53ESXXXX</td>\n",
       "      <td>BAJAJ PULSAR NS 200</td>\n",
       "      <td>758.0</td>\n",
       "      <td>ENGINE OIL</td>\n",
       "    </tr>\n",
       "    <tr>\n",
       "      <td>2</td>\n",
       "      <td>2017-06-02</td>\n",
       "      <td>2017-05-31</td>\n",
       "      <td>KIRAXXXXXXXXXX</td>\n",
       "      <td>KA53ESXXXX</td>\n",
       "      <td>BAJAJ PULSAR NS 200</td>\n",
       "      <td>758.0</td>\n",
       "      <td>POLISH</td>\n",
       "    </tr>\n",
       "    <tr>\n",
       "      <td>3</td>\n",
       "      <td>2017-06-02</td>\n",
       "      <td>2017-05-31</td>\n",
       "      <td>KIRAXXXXXXXXXX</td>\n",
       "      <td>KA53ESXXXX</td>\n",
       "      <td>BAJAJ PULSAR NS 200</td>\n",
       "      <td>758.0</td>\n",
       "      <td>CONSUMABLES</td>\n",
       "    </tr>\n",
       "    <tr>\n",
       "      <td>4</td>\n",
       "      <td>2017-06-02</td>\n",
       "      <td>2017-05-31</td>\n",
       "      <td>KIRAXXXXXXXXXX</td>\n",
       "      <td>KA53ESXXXX</td>\n",
       "      <td>BAJAJ PULSAR NS 200</td>\n",
       "      <td>758.0</td>\n",
       "      <td>COOLANT OIL</td>\n",
       "    </tr>\n",
       "  </tbody>\n",
       "</table>\n",
       "</div>"
      ],
      "text/plain": [
       "  Invoice Date Job Card Date Business Partner Name Vehicle No.  \\\n",
       "0   2017-05-30    2017-05-30        shivXXXXXXXXXX  KA03MFXXXX   \n",
       "1   2017-06-02    2017-05-31        KIRAXXXXXXXXXX  KA53ESXXXX   \n",
       "2   2017-06-02    2017-05-31        KIRAXXXXXXXXXX  KA53ESXXXX   \n",
       "3   2017-06-02    2017-05-31        KIRAXXXXXXXXXX  KA53ESXXXX   \n",
       "4   2017-06-02    2017-05-31        KIRAXXXXXXXXXX  KA53ESXXXX   \n",
       "\n",
       "              Vehicle Model  Current KM Reading INVOICE LINE TEXT  \n",
       "0  BAJAJ AVENGER STREET 220             50000.0        ENGINE OIL  \n",
       "1       BAJAJ PULSAR NS 200               758.0        ENGINE OIL  \n",
       "2       BAJAJ PULSAR NS 200               758.0            POLISH  \n",
       "3       BAJAJ PULSAR NS 200               758.0       CONSUMABLES  \n",
       "4       BAJAJ PULSAR NS 200               758.0       COOLANT OIL  "
      ]
     },
     "execution_count": 2,
     "metadata": {},
     "output_type": "execute_result"
    }
   ],
   "source": [
    "data=pd.read_excel(\"C:\\\\Users\\\\Administrator\\\\Downloads\\\\service-data.xlsx\")\n",
    "data.head()"
   ]
  },
  {
   "cell_type": "code",
   "execution_count": 3,
   "metadata": {},
   "outputs": [
    {
     "data": {
      "text/plain": [
       "(28484, 7)"
      ]
     },
     "execution_count": 3,
     "metadata": {},
     "output_type": "execute_result"
    }
   ],
   "source": [
    "data.shape"
   ]
  },
  {
   "cell_type": "code",
   "execution_count": 4,
   "metadata": {},
   "outputs": [
    {
     "data": {
      "text/plain": [
       "Invoice Date              2\n",
       "Job Card Date             2\n",
       "Business Partner Name     0\n",
       "Vehicle No.               0\n",
       "Vehicle Model             2\n",
       "Current KM Reading        2\n",
       "INVOICE LINE TEXT        35\n",
       "dtype: int64"
      ]
     },
     "execution_count": 4,
     "metadata": {},
     "output_type": "execute_result"
    }
   ],
   "source": [
    "data.isnull().sum()"
   ]
  },
  {
   "cell_type": "code",
   "execution_count": 5,
   "metadata": {},
   "outputs": [],
   "source": [
    "data.dropna(inplace=True)"
   ]
  },
  {
   "cell_type": "code",
   "execution_count": 6,
   "metadata": {},
   "outputs": [
    {
     "data": {
      "text/plain": [
       "(28448, 7)"
      ]
     },
     "execution_count": 6,
     "metadata": {},
     "output_type": "execute_result"
    }
   ],
   "source": [
    "data.shape"
   ]
  },
  {
   "cell_type": "code",
   "execution_count": 7,
   "metadata": {},
   "outputs": [
    {
     "data": {
      "text/plain": [
       "Invoice Date             0\n",
       "Job Card Date            0\n",
       "Business Partner Name    0\n",
       "Vehicle No.              0\n",
       "Vehicle Model            0\n",
       "Current KM Reading       0\n",
       "INVOICE LINE TEXT        0\n",
       "dtype: int64"
      ]
     },
     "execution_count": 7,
     "metadata": {},
     "output_type": "execute_result"
    }
   ],
   "source": [
    "data.isnull().sum()"
   ]
  },
  {
   "cell_type": "code",
   "execution_count": 8,
   "metadata": {},
   "outputs": [
    {
     "data": {
      "text/plain": [
       "Index(['Invoice Date', 'Job Card Date', 'Business Partner Name', 'Vehicle No.',\n",
       "       'Vehicle Model', 'Current KM Reading', 'INVOICE LINE TEXT'],\n",
       "      dtype='object')"
      ]
     },
     "execution_count": 8,
     "metadata": {},
     "output_type": "execute_result"
    }
   ],
   "source": [
    "data.columns"
   ]
  },
  {
   "cell_type": "code",
   "execution_count": 9,
   "metadata": {},
   "outputs": [],
   "source": [
    "col=['Invoice_Date', 'Job_Card_Date', 'Business_Partner_Name', 'Vehicle_No',\n",
    "       'Vehicle_Model', 'Current_KM_Reading', 'INVOICE_LINE_TEXT']"
   ]
  },
  {
   "cell_type": "code",
   "execution_count": 10,
   "metadata": {},
   "outputs": [
    {
     "data": {
      "text/html": [
       "<div>\n",
       "<style scoped>\n",
       "    .dataframe tbody tr th:only-of-type {\n",
       "        vertical-align: middle;\n",
       "    }\n",
       "\n",
       "    .dataframe tbody tr th {\n",
       "        vertical-align: top;\n",
       "    }\n",
       "\n",
       "    .dataframe thead th {\n",
       "        text-align: right;\n",
       "    }\n",
       "</style>\n",
       "<table border=\"1\" class=\"dataframe\">\n",
       "  <thead>\n",
       "    <tr style=\"text-align: right;\">\n",
       "      <th></th>\n",
       "      <th>Invoice_Date</th>\n",
       "      <th>Job_Card_Date</th>\n",
       "      <th>Business_Partner_Name</th>\n",
       "      <th>Vehicle_No</th>\n",
       "      <th>Vehicle_Model</th>\n",
       "      <th>Current_KM_Reading</th>\n",
       "      <th>INVOICE_LINE_TEXT</th>\n",
       "    </tr>\n",
       "  </thead>\n",
       "  <tbody>\n",
       "    <tr>\n",
       "      <td>0</td>\n",
       "      <td>2017-05-30</td>\n",
       "      <td>2017-05-30</td>\n",
       "      <td>shivXXXXXXXXXX</td>\n",
       "      <td>KA03MFXXXX</td>\n",
       "      <td>BAJAJ AVENGER STREET 220</td>\n",
       "      <td>50000.0</td>\n",
       "      <td>ENGINE OIL</td>\n",
       "    </tr>\n",
       "    <tr>\n",
       "      <td>1</td>\n",
       "      <td>2017-06-02</td>\n",
       "      <td>2017-05-31</td>\n",
       "      <td>KIRAXXXXXXXXXX</td>\n",
       "      <td>KA53ESXXXX</td>\n",
       "      <td>BAJAJ PULSAR NS 200</td>\n",
       "      <td>758.0</td>\n",
       "      <td>ENGINE OIL</td>\n",
       "    </tr>\n",
       "    <tr>\n",
       "      <td>2</td>\n",
       "      <td>2017-06-02</td>\n",
       "      <td>2017-05-31</td>\n",
       "      <td>KIRAXXXXXXXXXX</td>\n",
       "      <td>KA53ESXXXX</td>\n",
       "      <td>BAJAJ PULSAR NS 200</td>\n",
       "      <td>758.0</td>\n",
       "      <td>POLISH</td>\n",
       "    </tr>\n",
       "    <tr>\n",
       "      <td>3</td>\n",
       "      <td>2017-06-02</td>\n",
       "      <td>2017-05-31</td>\n",
       "      <td>KIRAXXXXXXXXXX</td>\n",
       "      <td>KA53ESXXXX</td>\n",
       "      <td>BAJAJ PULSAR NS 200</td>\n",
       "      <td>758.0</td>\n",
       "      <td>CONSUMABLES</td>\n",
       "    </tr>\n",
       "    <tr>\n",
       "      <td>4</td>\n",
       "      <td>2017-06-02</td>\n",
       "      <td>2017-05-31</td>\n",
       "      <td>KIRAXXXXXXXXXX</td>\n",
       "      <td>KA53ESXXXX</td>\n",
       "      <td>BAJAJ PULSAR NS 200</td>\n",
       "      <td>758.0</td>\n",
       "      <td>COOLANT OIL</td>\n",
       "    </tr>\n",
       "  </tbody>\n",
       "</table>\n",
       "</div>"
      ],
      "text/plain": [
       "  Invoice_Date Job_Card_Date Business_Partner_Name  Vehicle_No  \\\n",
       "0   2017-05-30    2017-05-30        shivXXXXXXXXXX  KA03MFXXXX   \n",
       "1   2017-06-02    2017-05-31        KIRAXXXXXXXXXX  KA53ESXXXX   \n",
       "2   2017-06-02    2017-05-31        KIRAXXXXXXXXXX  KA53ESXXXX   \n",
       "3   2017-06-02    2017-05-31        KIRAXXXXXXXXXX  KA53ESXXXX   \n",
       "4   2017-06-02    2017-05-31        KIRAXXXXXXXXXX  KA53ESXXXX   \n",
       "\n",
       "              Vehicle_Model  Current_KM_Reading INVOICE_LINE_TEXT  \n",
       "0  BAJAJ AVENGER STREET 220             50000.0        ENGINE OIL  \n",
       "1       BAJAJ PULSAR NS 200               758.0        ENGINE OIL  \n",
       "2       BAJAJ PULSAR NS 200               758.0            POLISH  \n",
       "3       BAJAJ PULSAR NS 200               758.0       CONSUMABLES  \n",
       "4       BAJAJ PULSAR NS 200               758.0       COOLANT OIL  "
      ]
     },
     "execution_count": 10,
     "metadata": {},
     "output_type": "execute_result"
    }
   ],
   "source": [
    "data.columns=col\n",
    "data.head()"
   ]
  },
  {
   "cell_type": "code",
   "execution_count": 11,
   "metadata": {},
   "outputs": [
    {
     "data": {
      "text/html": [
       "<div>\n",
       "<style scoped>\n",
       "    .dataframe tbody tr th:only-of-type {\n",
       "        vertical-align: middle;\n",
       "    }\n",
       "\n",
       "    .dataframe tbody tr th {\n",
       "        vertical-align: top;\n",
       "    }\n",
       "\n",
       "    .dataframe thead th {\n",
       "        text-align: right;\n",
       "    }\n",
       "</style>\n",
       "<table border=\"1\" class=\"dataframe\">\n",
       "  <thead>\n",
       "    <tr style=\"text-align: right;\">\n",
       "      <th></th>\n",
       "      <th>Invoice_Date</th>\n",
       "      <th>Job_Card_Date</th>\n",
       "      <th>Business_Partner_Name</th>\n",
       "      <th>Vehicle_No</th>\n",
       "      <th>Vehicle_Model</th>\n",
       "      <th>Current_KM_Reading</th>\n",
       "      <th>INVOICE_LINE_TEXT</th>\n",
       "      <th>demand</th>\n",
       "    </tr>\n",
       "  </thead>\n",
       "  <tbody>\n",
       "    <tr>\n",
       "      <td>0</td>\n",
       "      <td>2017-05-30</td>\n",
       "      <td>2017-05-30</td>\n",
       "      <td>shivXXXXXXXXXX</td>\n",
       "      <td>KA03MFXXXX</td>\n",
       "      <td>BAJAJ AVENGER STREET 220</td>\n",
       "      <td>50000.0</td>\n",
       "      <td>ENGINE OIL</td>\n",
       "      <td>1.0</td>\n",
       "    </tr>\n",
       "    <tr>\n",
       "      <td>1</td>\n",
       "      <td>2017-06-02</td>\n",
       "      <td>2017-05-31</td>\n",
       "      <td>KIRAXXXXXXXXXX</td>\n",
       "      <td>KA53ESXXXX</td>\n",
       "      <td>BAJAJ PULSAR NS 200</td>\n",
       "      <td>758.0</td>\n",
       "      <td>ENGINE OIL</td>\n",
       "      <td>1.0</td>\n",
       "    </tr>\n",
       "    <tr>\n",
       "      <td>2</td>\n",
       "      <td>2017-06-02</td>\n",
       "      <td>2017-05-31</td>\n",
       "      <td>KIRAXXXXXXXXXX</td>\n",
       "      <td>KA53ESXXXX</td>\n",
       "      <td>BAJAJ PULSAR NS 200</td>\n",
       "      <td>758.0</td>\n",
       "      <td>POLISH</td>\n",
       "      <td>1.0</td>\n",
       "    </tr>\n",
       "    <tr>\n",
       "      <td>3</td>\n",
       "      <td>2017-06-02</td>\n",
       "      <td>2017-05-31</td>\n",
       "      <td>KIRAXXXXXXXXXX</td>\n",
       "      <td>KA53ESXXXX</td>\n",
       "      <td>BAJAJ PULSAR NS 200</td>\n",
       "      <td>758.0</td>\n",
       "      <td>CONSUMABLES</td>\n",
       "      <td>1.0</td>\n",
       "    </tr>\n",
       "    <tr>\n",
       "      <td>4</td>\n",
       "      <td>2017-06-02</td>\n",
       "      <td>2017-05-31</td>\n",
       "      <td>KIRAXXXXXXXXXX</td>\n",
       "      <td>KA53ESXXXX</td>\n",
       "      <td>BAJAJ PULSAR NS 200</td>\n",
       "      <td>758.0</td>\n",
       "      <td>COOLANT OIL</td>\n",
       "      <td>1.0</td>\n",
       "    </tr>\n",
       "  </tbody>\n",
       "</table>\n",
       "</div>"
      ],
      "text/plain": [
       "  Invoice_Date Job_Card_Date Business_Partner_Name  Vehicle_No  \\\n",
       "0   2017-05-30    2017-05-30        shivXXXXXXXXXX  KA03MFXXXX   \n",
       "1   2017-06-02    2017-05-31        KIRAXXXXXXXXXX  KA53ESXXXX   \n",
       "2   2017-06-02    2017-05-31        KIRAXXXXXXXXXX  KA53ESXXXX   \n",
       "3   2017-06-02    2017-05-31        KIRAXXXXXXXXXX  KA53ESXXXX   \n",
       "4   2017-06-02    2017-05-31        KIRAXXXXXXXXXX  KA53ESXXXX   \n",
       "\n",
       "              Vehicle_Model  Current_KM_Reading INVOICE_LINE_TEXT  demand  \n",
       "0  BAJAJ AVENGER STREET 220             50000.0        ENGINE OIL     1.0  \n",
       "1       BAJAJ PULSAR NS 200               758.0        ENGINE OIL     1.0  \n",
       "2       BAJAJ PULSAR NS 200               758.0            POLISH     1.0  \n",
       "3       BAJAJ PULSAR NS 200               758.0       CONSUMABLES     1.0  \n",
       "4       BAJAJ PULSAR NS 200               758.0       COOLANT OIL     1.0  "
      ]
     },
     "execution_count": 11,
     "metadata": {},
     "output_type": "execute_result"
    }
   ],
   "source": [
    "data.loc[data.INVOICE_LINE_TEXT!=0,\"demand\"]=1\n",
    "data.head()"
   ]
  },
  {
   "cell_type": "code",
   "execution_count": 12,
   "metadata": {},
   "outputs": [
    {
     "data": {
      "text/html": [
       "<div>\n",
       "<style scoped>\n",
       "    .dataframe tbody tr th:only-of-type {\n",
       "        vertical-align: middle;\n",
       "    }\n",
       "\n",
       "    .dataframe tbody tr th {\n",
       "        vertical-align: top;\n",
       "    }\n",
       "\n",
       "    .dataframe thead th {\n",
       "        text-align: right;\n",
       "    }\n",
       "</style>\n",
       "<table border=\"1\" class=\"dataframe\">\n",
       "  <thead>\n",
       "    <tr style=\"text-align: right;\">\n",
       "      <th></th>\n",
       "      <th>Job_Card_Date</th>\n",
       "      <th>Vehicle_Model</th>\n",
       "      <th>INVOICE_LINE_TEXT</th>\n",
       "      <th>demand</th>\n",
       "    </tr>\n",
       "  </thead>\n",
       "  <tbody>\n",
       "    <tr>\n",
       "      <td>0</td>\n",
       "      <td>2017-05-30</td>\n",
       "      <td>BAJAJ AVENGER STREET 220</td>\n",
       "      <td>ENGINE OIL</td>\n",
       "      <td>1.0</td>\n",
       "    </tr>\n",
       "    <tr>\n",
       "      <td>1</td>\n",
       "      <td>2017-05-31</td>\n",
       "      <td>BAJAJ PULSAR NS 200</td>\n",
       "      <td>ENGINE OIL</td>\n",
       "      <td>1.0</td>\n",
       "    </tr>\n",
       "    <tr>\n",
       "      <td>2</td>\n",
       "      <td>2017-05-31</td>\n",
       "      <td>BAJAJ PULSAR NS 200</td>\n",
       "      <td>POLISH</td>\n",
       "      <td>1.0</td>\n",
       "    </tr>\n",
       "    <tr>\n",
       "      <td>3</td>\n",
       "      <td>2017-05-31</td>\n",
       "      <td>BAJAJ PULSAR NS 200</td>\n",
       "      <td>CONSUMABLES</td>\n",
       "      <td>1.0</td>\n",
       "    </tr>\n",
       "    <tr>\n",
       "      <td>4</td>\n",
       "      <td>2017-05-31</td>\n",
       "      <td>BAJAJ PULSAR NS 200</td>\n",
       "      <td>COOLANT OIL</td>\n",
       "      <td>1.0</td>\n",
       "    </tr>\n",
       "  </tbody>\n",
       "</table>\n",
       "</div>"
      ],
      "text/plain": [
       "  Job_Card_Date             Vehicle_Model INVOICE_LINE_TEXT  demand\n",
       "0    2017-05-30  BAJAJ AVENGER STREET 220        ENGINE OIL     1.0\n",
       "1    2017-05-31       BAJAJ PULSAR NS 200        ENGINE OIL     1.0\n",
       "2    2017-05-31       BAJAJ PULSAR NS 200            POLISH     1.0\n",
       "3    2017-05-31       BAJAJ PULSAR NS 200       CONSUMABLES     1.0\n",
       "4    2017-05-31       BAJAJ PULSAR NS 200       COOLANT OIL     1.0"
      ]
     },
     "execution_count": 12,
     "metadata": {},
     "output_type": "execute_result"
    }
   ],
   "source": [
    "data=data.loc[:,['Job_Card_Date',\"Vehicle_Model\",\"INVOICE_LINE_TEXT\",\"demand\"]]\n",
    "data.head()"
   ]
  },
  {
   "cell_type": "code",
   "execution_count": 13,
   "metadata": {},
   "outputs": [
    {
     "data": {
      "text/html": [
       "<div>\n",
       "<style scoped>\n",
       "    .dataframe tbody tr th:only-of-type {\n",
       "        vertical-align: middle;\n",
       "    }\n",
       "\n",
       "    .dataframe tbody tr th {\n",
       "        vertical-align: top;\n",
       "    }\n",
       "\n",
       "    .dataframe thead th {\n",
       "        text-align: right;\n",
       "    }\n",
       "</style>\n",
       "<table border=\"1\" class=\"dataframe\">\n",
       "  <thead>\n",
       "    <tr style=\"text-align: right;\">\n",
       "      <th></th>\n",
       "      <th>Job_Card_Date</th>\n",
       "      <th>Vehicle_Model</th>\n",
       "      <th>INVOICE_LINE_TEXT</th>\n",
       "      <th>demand</th>\n",
       "      <th>Pandas_Datestamp</th>\n",
       "      <th>Year</th>\n",
       "      <th>Month</th>\n",
       "    </tr>\n",
       "  </thead>\n",
       "  <tbody>\n",
       "    <tr>\n",
       "      <td>0</td>\n",
       "      <td>2017-05-30</td>\n",
       "      <td>BAJAJ AVENGER STREET 220</td>\n",
       "      <td>ENGINE OIL</td>\n",
       "      <td>1.0</td>\n",
       "      <td>2017-05-30</td>\n",
       "      <td>2017</td>\n",
       "      <td>5</td>\n",
       "    </tr>\n",
       "    <tr>\n",
       "      <td>23</td>\n",
       "      <td>2017-05-31</td>\n",
       "      <td>BAJAJ PULSAR 220</td>\n",
       "      <td>VALVE GRAINDING</td>\n",
       "      <td>1.0</td>\n",
       "      <td>2017-05-31</td>\n",
       "      <td>2017</td>\n",
       "      <td>5</td>\n",
       "    </tr>\n",
       "    <tr>\n",
       "      <td>24</td>\n",
       "      <td>2017-05-31</td>\n",
       "      <td>BAJAJ PULSAR 220</td>\n",
       "      <td>DISC PAD</td>\n",
       "      <td>1.0</td>\n",
       "      <td>2017-05-31</td>\n",
       "      <td>2017</td>\n",
       "      <td>5</td>\n",
       "    </tr>\n",
       "    <tr>\n",
       "      <td>25</td>\n",
       "      <td>2017-05-31</td>\n",
       "      <td>BAJAJ PULSAR 220</td>\n",
       "      <td>LOADING GEAR</td>\n",
       "      <td>1.0</td>\n",
       "      <td>2017-05-31</td>\n",
       "      <td>2017</td>\n",
       "      <td>5</td>\n",
       "    </tr>\n",
       "    <tr>\n",
       "      <td>26</td>\n",
       "      <td>2017-05-31</td>\n",
       "      <td>BAJAJ PULSAR 220</td>\n",
       "      <td>PACKING KIT</td>\n",
       "      <td>1.0</td>\n",
       "      <td>2017-05-31</td>\n",
       "      <td>2017</td>\n",
       "      <td>5</td>\n",
       "    </tr>\n",
       "    <tr>\n",
       "      <td>...</td>\n",
       "      <td>...</td>\n",
       "      <td>...</td>\n",
       "      <td>...</td>\n",
       "      <td>...</td>\n",
       "      <td>...</td>\n",
       "      <td>...</td>\n",
       "      <td>...</td>\n",
       "    </tr>\n",
       "    <tr>\n",
       "      <td>28455</td>\n",
       "      <td>2019-01-06</td>\n",
       "      <td>BAJAJ PULSAR 150</td>\n",
       "      <td>CHAIN LUBRICATION</td>\n",
       "      <td>1.0</td>\n",
       "      <td>2019-01-06</td>\n",
       "      <td>2019</td>\n",
       "      <td>1</td>\n",
       "    </tr>\n",
       "    <tr>\n",
       "      <td>28454</td>\n",
       "      <td>2019-01-06</td>\n",
       "      <td>BAJAJ PULSAR 150</td>\n",
       "      <td>ENGINE OIL</td>\n",
       "      <td>1.0</td>\n",
       "      <td>2019-01-06</td>\n",
       "      <td>2019</td>\n",
       "      <td>1</td>\n",
       "    </tr>\n",
       "    <tr>\n",
       "      <td>28480</td>\n",
       "      <td>2019-01-06</td>\n",
       "      <td>BAJAJ DISCOVER 125</td>\n",
       "      <td>DISC OIL</td>\n",
       "      <td>1.0</td>\n",
       "      <td>2019-01-06</td>\n",
       "      <td>2019</td>\n",
       "      <td>1</td>\n",
       "    </tr>\n",
       "    <tr>\n",
       "      <td>28466</td>\n",
       "      <td>2019-01-06</td>\n",
       "      <td>BAJAJ PULSAR NS 160</td>\n",
       "      <td>POLISH</td>\n",
       "      <td>1.0</td>\n",
       "      <td>2019-01-06</td>\n",
       "      <td>2019</td>\n",
       "      <td>1</td>\n",
       "    </tr>\n",
       "    <tr>\n",
       "      <td>28481</td>\n",
       "      <td>2019-01-06</td>\n",
       "      <td>BAJAJ DISCOVER 125</td>\n",
       "      <td>AIR FILTER</td>\n",
       "      <td>1.0</td>\n",
       "      <td>2019-01-06</td>\n",
       "      <td>2019</td>\n",
       "      <td>1</td>\n",
       "    </tr>\n",
       "  </tbody>\n",
       "</table>\n",
       "<p>28448 rows × 7 columns</p>\n",
       "</div>"
      ],
      "text/plain": [
       "      Job_Card_Date             Vehicle_Model  INVOICE_LINE_TEXT  demand  \\\n",
       "0        2017-05-30  BAJAJ AVENGER STREET 220         ENGINE OIL     1.0   \n",
       "23       2017-05-31          BAJAJ PULSAR 220    VALVE GRAINDING     1.0   \n",
       "24       2017-05-31          BAJAJ PULSAR 220           DISC PAD     1.0   \n",
       "25       2017-05-31          BAJAJ PULSAR 220       LOADING GEAR     1.0   \n",
       "26       2017-05-31          BAJAJ PULSAR 220        PACKING KIT     1.0   \n",
       "...             ...                       ...                ...     ...   \n",
       "28455    2019-01-06          BAJAJ PULSAR 150  CHAIN LUBRICATION     1.0   \n",
       "28454    2019-01-06          BAJAJ PULSAR 150         ENGINE OIL     1.0   \n",
       "28480    2019-01-06        BAJAJ DISCOVER 125           DISC OIL     1.0   \n",
       "28466    2019-01-06       BAJAJ PULSAR NS 160             POLISH     1.0   \n",
       "28481    2019-01-06        BAJAJ DISCOVER 125         AIR FILTER     1.0   \n",
       "\n",
       "      Pandas_Datestamp  Year  Month  \n",
       "0           2017-05-30  2017      5  \n",
       "23          2017-05-31  2017      5  \n",
       "24          2017-05-31  2017      5  \n",
       "25          2017-05-31  2017      5  \n",
       "26          2017-05-31  2017      5  \n",
       "...                ...   ...    ...  \n",
       "28455       2019-01-06  2019      1  \n",
       "28454       2019-01-06  2019      1  \n",
       "28480       2019-01-06  2019      1  \n",
       "28466       2019-01-06  2019      1  \n",
       "28481       2019-01-06  2019      1  \n",
       "\n",
       "[28448 rows x 7 columns]"
      ]
     },
     "execution_count": 13,
     "metadata": {},
     "output_type": "execute_result"
    }
   ],
   "source": [
    "data['Pandas_Datestamp'] = pd.to_datetime(data['Job_Card_Date'], infer_datetime_format=True)\n",
    "data['Year'] = pd.DatetimeIndex(data['Job_Card_Date']).year\n",
    "data['Month'] = pd.DatetimeIndex(data['Job_Card_Date']).month\n",
    "data.sort_values(by='Pandas_Datestamp')"
   ]
  },
  {
   "cell_type": "code",
   "execution_count": 14,
   "metadata": {},
   "outputs": [
    {
     "data": {
      "text/html": [
       "<div>\n",
       "<style scoped>\n",
       "    .dataframe tbody tr th:only-of-type {\n",
       "        vertical-align: middle;\n",
       "    }\n",
       "\n",
       "    .dataframe tbody tr th {\n",
       "        vertical-align: top;\n",
       "    }\n",
       "\n",
       "    .dataframe thead th {\n",
       "        text-align: right;\n",
       "    }\n",
       "</style>\n",
       "<table border=\"1\" class=\"dataframe\">\n",
       "  <thead>\n",
       "    <tr style=\"text-align: right;\">\n",
       "      <th></th>\n",
       "      <th>Job_Card_Date</th>\n",
       "      <th>Vehicle_Model</th>\n",
       "      <th>INVOICE_LINE_TEXT</th>\n",
       "      <th>demand</th>\n",
       "      <th>Pandas_Datestamp</th>\n",
       "      <th>Year</th>\n",
       "      <th>Month</th>\n",
       "    </tr>\n",
       "  </thead>\n",
       "  <tbody>\n",
       "    <tr>\n",
       "      <td>14</td>\n",
       "      <td>2017-05-31</td>\n",
       "      <td>BAJAJ PULSAR 150</td>\n",
       "      <td>ENGINE OIL</td>\n",
       "      <td>1.0</td>\n",
       "      <td>2017-05-31</td>\n",
       "      <td>2017</td>\n",
       "      <td>5</td>\n",
       "    </tr>\n",
       "    <tr>\n",
       "      <td>50</td>\n",
       "      <td>2017-06-01</td>\n",
       "      <td>BAJAJ PULSAR 150</td>\n",
       "      <td>ENGINE OIL</td>\n",
       "      <td>1.0</td>\n",
       "      <td>2017-06-01</td>\n",
       "      <td>2017</td>\n",
       "      <td>6</td>\n",
       "    </tr>\n",
       "    <tr>\n",
       "      <td>58</td>\n",
       "      <td>2017-06-01</td>\n",
       "      <td>BAJAJ PULSAR 150</td>\n",
       "      <td>ENGINE OIL</td>\n",
       "      <td>1.0</td>\n",
       "      <td>2017-06-01</td>\n",
       "      <td>2017</td>\n",
       "      <td>6</td>\n",
       "    </tr>\n",
       "    <tr>\n",
       "      <td>100</td>\n",
       "      <td>2017-06-02</td>\n",
       "      <td>BAJAJ PULSAR 150</td>\n",
       "      <td>ENGINE OIL</td>\n",
       "      <td>1.0</td>\n",
       "      <td>2017-06-02</td>\n",
       "      <td>2017</td>\n",
       "      <td>6</td>\n",
       "    </tr>\n",
       "    <tr>\n",
       "      <td>117</td>\n",
       "      <td>2017-06-03</td>\n",
       "      <td>BAJAJ PULSAR 150</td>\n",
       "      <td>ENGINE OIL</td>\n",
       "      <td>1.0</td>\n",
       "      <td>2017-06-03</td>\n",
       "      <td>2017</td>\n",
       "      <td>6</td>\n",
       "    </tr>\n",
       "    <tr>\n",
       "      <td>...</td>\n",
       "      <td>...</td>\n",
       "      <td>...</td>\n",
       "      <td>...</td>\n",
       "      <td>...</td>\n",
       "      <td>...</td>\n",
       "      <td>...</td>\n",
       "      <td>...</td>\n",
       "    </tr>\n",
       "    <tr>\n",
       "      <td>28428</td>\n",
       "      <td>2019-01-05</td>\n",
       "      <td>BAJAJ PULSAR 150</td>\n",
       "      <td>ENGINE OIL</td>\n",
       "      <td>1.0</td>\n",
       "      <td>2019-01-05</td>\n",
       "      <td>2019</td>\n",
       "      <td>1</td>\n",
       "    </tr>\n",
       "    <tr>\n",
       "      <td>28432</td>\n",
       "      <td>2019-01-05</td>\n",
       "      <td>BAJAJ PULSAR 150</td>\n",
       "      <td>ENGINE OIL</td>\n",
       "      <td>1.0</td>\n",
       "      <td>2019-01-05</td>\n",
       "      <td>2019</td>\n",
       "      <td>1</td>\n",
       "    </tr>\n",
       "    <tr>\n",
       "      <td>28443</td>\n",
       "      <td>2019-01-05</td>\n",
       "      <td>BAJAJ PULSAR 150</td>\n",
       "      <td>ENGINE OIL</td>\n",
       "      <td>1.0</td>\n",
       "      <td>2019-01-05</td>\n",
       "      <td>2019</td>\n",
       "      <td>1</td>\n",
       "    </tr>\n",
       "    <tr>\n",
       "      <td>28454</td>\n",
       "      <td>2019-01-06</td>\n",
       "      <td>BAJAJ PULSAR 150</td>\n",
       "      <td>ENGINE OIL</td>\n",
       "      <td>1.0</td>\n",
       "      <td>2019-01-06</td>\n",
       "      <td>2019</td>\n",
       "      <td>1</td>\n",
       "    </tr>\n",
       "    <tr>\n",
       "      <td>28468</td>\n",
       "      <td>2019-01-06</td>\n",
       "      <td>BAJAJ PULSAR 150</td>\n",
       "      <td>ENGINE OIL</td>\n",
       "      <td>1.0</td>\n",
       "      <td>2019-01-06</td>\n",
       "      <td>2019</td>\n",
       "      <td>1</td>\n",
       "    </tr>\n",
       "  </tbody>\n",
       "</table>\n",
       "<p>1066 rows × 7 columns</p>\n",
       "</div>"
      ],
      "text/plain": [
       "      Job_Card_Date     Vehicle_Model INVOICE_LINE_TEXT  demand  \\\n",
       "14       2017-05-31  BAJAJ PULSAR 150        ENGINE OIL     1.0   \n",
       "50       2017-06-01  BAJAJ PULSAR 150        ENGINE OIL     1.0   \n",
       "58       2017-06-01  BAJAJ PULSAR 150        ENGINE OIL     1.0   \n",
       "100      2017-06-02  BAJAJ PULSAR 150        ENGINE OIL     1.0   \n",
       "117      2017-06-03  BAJAJ PULSAR 150        ENGINE OIL     1.0   \n",
       "...             ...               ...               ...     ...   \n",
       "28428    2019-01-05  BAJAJ PULSAR 150        ENGINE OIL     1.0   \n",
       "28432    2019-01-05  BAJAJ PULSAR 150        ENGINE OIL     1.0   \n",
       "28443    2019-01-05  BAJAJ PULSAR 150        ENGINE OIL     1.0   \n",
       "28454    2019-01-06  BAJAJ PULSAR 150        ENGINE OIL     1.0   \n",
       "28468    2019-01-06  BAJAJ PULSAR 150        ENGINE OIL     1.0   \n",
       "\n",
       "      Pandas_Datestamp  Year  Month  \n",
       "14          2017-05-31  2017      5  \n",
       "50          2017-06-01  2017      6  \n",
       "58          2017-06-01  2017      6  \n",
       "100         2017-06-02  2017      6  \n",
       "117         2017-06-03  2017      6  \n",
       "...                ...   ...    ...  \n",
       "28428       2019-01-05  2019      1  \n",
       "28432       2019-01-05  2019      1  \n",
       "28443       2019-01-05  2019      1  \n",
       "28454       2019-01-06  2019      1  \n",
       "28468       2019-01-06  2019      1  \n",
       "\n",
       "[1066 rows x 7 columns]"
      ]
     },
     "execution_count": 14,
     "metadata": {},
     "output_type": "execute_result"
    }
   ],
   "source": [
    "data_pulser150=data[(data['Vehicle_Model'].astype(str).str.contains('BAJAJ PULSAR 150'))&(data[\"INVOICE_LINE_TEXT\"]=='ENGINE OIL')]\n",
    "data_pulser150"
   ]
  },
  {
   "cell_type": "code",
   "execution_count": 19,
   "metadata": {},
   "outputs": [
    {
     "name": "stdout",
     "output_type": "stream",
     "text": [
      "(1066, 2)\n"
     ]
    },
    {
     "data": {
      "text/html": [
       "<div>\n",
       "<style scoped>\n",
       "    .dataframe tbody tr th:only-of-type {\n",
       "        vertical-align: middle;\n",
       "    }\n",
       "\n",
       "    .dataframe tbody tr th {\n",
       "        vertical-align: top;\n",
       "    }\n",
       "\n",
       "    .dataframe thead th {\n",
       "        text-align: right;\n",
       "    }\n",
       "</style>\n",
       "<table border=\"1\" class=\"dataframe\">\n",
       "  <thead>\n",
       "    <tr style=\"text-align: right;\">\n",
       "      <th></th>\n",
       "      <th>Pandas_Datestamp</th>\n",
       "      <th>demand</th>\n",
       "    </tr>\n",
       "  </thead>\n",
       "  <tbody>\n",
       "    <tr>\n",
       "      <td>14</td>\n",
       "      <td>2017-05-31</td>\n",
       "      <td>1.0</td>\n",
       "    </tr>\n",
       "    <tr>\n",
       "      <td>50</td>\n",
       "      <td>2017-06-01</td>\n",
       "      <td>1.0</td>\n",
       "    </tr>\n",
       "    <tr>\n",
       "      <td>58</td>\n",
       "      <td>2017-06-01</td>\n",
       "      <td>1.0</td>\n",
       "    </tr>\n",
       "    <tr>\n",
       "      <td>100</td>\n",
       "      <td>2017-06-02</td>\n",
       "      <td>1.0</td>\n",
       "    </tr>\n",
       "    <tr>\n",
       "      <td>117</td>\n",
       "      <td>2017-06-03</td>\n",
       "      <td>1.0</td>\n",
       "    </tr>\n",
       "  </tbody>\n",
       "</table>\n",
       "</div>"
      ],
      "text/plain": [
       "    Pandas_Datestamp  demand\n",
       "14        2017-05-31     1.0\n",
       "50        2017-06-01     1.0\n",
       "58        2017-06-01     1.0\n",
       "100       2017-06-02     1.0\n",
       "117       2017-06-03     1.0"
      ]
     },
     "execution_count": 19,
     "metadata": {},
     "output_type": "execute_result"
    }
   ],
   "source": [
    "data4=data_pulser150.loc[:,[\"Pandas_Datestamp\",'demand']]\n",
    "print(data4.shape)\n",
    "data4.head()"
   ]
  },
  {
   "cell_type": "code",
   "execution_count": 20,
   "metadata": {},
   "outputs": [
    {
     "data": {
      "text/html": [
       "<div>\n",
       "<style scoped>\n",
       "    .dataframe tbody tr th:only-of-type {\n",
       "        vertical-align: middle;\n",
       "    }\n",
       "\n",
       "    .dataframe tbody tr th {\n",
       "        vertical-align: top;\n",
       "    }\n",
       "\n",
       "    .dataframe thead th {\n",
       "        text-align: right;\n",
       "    }\n",
       "</style>\n",
       "<table border=\"1\" class=\"dataframe\">\n",
       "  <thead>\n",
       "    <tr style=\"text-align: right;\">\n",
       "      <th></th>\n",
       "      <th>demand</th>\n",
       "    </tr>\n",
       "    <tr>\n",
       "      <th>Pandas_Datestamp</th>\n",
       "      <th></th>\n",
       "    </tr>\n",
       "  </thead>\n",
       "  <tbody>\n",
       "    <tr>\n",
       "      <td>2017-05-31</td>\n",
       "      <td>1.0</td>\n",
       "    </tr>\n",
       "    <tr>\n",
       "      <td>2017-06-01</td>\n",
       "      <td>2.0</td>\n",
       "    </tr>\n",
       "    <tr>\n",
       "      <td>2017-06-02</td>\n",
       "      <td>1.0</td>\n",
       "    </tr>\n",
       "    <tr>\n",
       "      <td>2017-06-03</td>\n",
       "      <td>2.0</td>\n",
       "    </tr>\n",
       "    <tr>\n",
       "      <td>2017-06-05</td>\n",
       "      <td>4.0</td>\n",
       "    </tr>\n",
       "    <tr>\n",
       "      <td>...</td>\n",
       "      <td>...</td>\n",
       "    </tr>\n",
       "    <tr>\n",
       "      <td>2019-01-02</td>\n",
       "      <td>2.0</td>\n",
       "    </tr>\n",
       "    <tr>\n",
       "      <td>2019-01-03</td>\n",
       "      <td>1.0</td>\n",
       "    </tr>\n",
       "    <tr>\n",
       "      <td>2019-01-04</td>\n",
       "      <td>1.0</td>\n",
       "    </tr>\n",
       "    <tr>\n",
       "      <td>2019-01-05</td>\n",
       "      <td>6.0</td>\n",
       "    </tr>\n",
       "    <tr>\n",
       "      <td>2019-01-06</td>\n",
       "      <td>2.0</td>\n",
       "    </tr>\n",
       "  </tbody>\n",
       "</table>\n",
       "<p>463 rows × 1 columns</p>\n",
       "</div>"
      ],
      "text/plain": [
       "                  demand\n",
       "Pandas_Datestamp        \n",
       "2017-05-31           1.0\n",
       "2017-06-01           2.0\n",
       "2017-06-02           1.0\n",
       "2017-06-03           2.0\n",
       "2017-06-05           4.0\n",
       "...                  ...\n",
       "2019-01-02           2.0\n",
       "2019-01-03           1.0\n",
       "2019-01-04           1.0\n",
       "2019-01-05           6.0\n",
       "2019-01-06           2.0\n",
       "\n",
       "[463 rows x 1 columns]"
      ]
     },
     "execution_count": 20,
     "metadata": {},
     "output_type": "execute_result"
    }
   ],
   "source": [
    "data5=data4.groupby(data4.Pandas_Datestamp).sum()\n",
    "data5"
   ]
  },
  {
   "cell_type": "code",
   "execution_count": 21,
   "metadata": {},
   "outputs": [
    {
     "data": {
      "text/plain": [
       "<matplotlib.axes._subplots.AxesSubplot at 0x2800db0eb48>"
      ]
     },
     "execution_count": 21,
     "metadata": {},
     "output_type": "execute_result"
    },
    {
     "data": {
      "image/png": "[encoded data removed]",
      "text/plain": [
       "<Figure size 432x288 with 1 Axes>"
      ]
     },
     "metadata": {
      "needs_background": "light"
     },
     "output_type": "display_data"
    }
   ],
   "source": [
    "data5.plot()"
   ]
  },
  {
   "cell_type": "code",
   "execution_count": 22,
   "metadata": {},
   "outputs": [
    {
     "data": {
      "image/png": "[encoded data removed]",
      "text/plain": [
       "<Figure size 432x288 with 1 Axes>"
      ]
     },
     "execution_count": 22,
     "metadata": {},
     "output_type": "execute_result"
    },
    {
     "data": {
      "image/png": "[encoded data removed]",
      "text/plain": [
       "<Figure size 432x288 with 1 Axes>"
      ]
     },
     "metadata": {
      "needs_background": "light"
     },
     "output_type": "display_data"
    }
   ],
   "source": [
    "from statsmodels.graphics.tsaplots import plot_acf\n",
    "plot_acf(data5)"
   ]
  },
  {
   "cell_type": "code",
   "execution_count": 23,
   "metadata": {},
   "outputs": [],
   "source": [
    "data5_diff=data5.diff(periods=1)"
   ]
  },
  {
   "cell_type": "code",
   "execution_count": 24,
   "metadata": {},
   "outputs": [
    {
     "data": {
      "text/html": [
       "<div>\n",
       "<style scoped>\n",
       "    .dataframe tbody tr th:only-of-type {\n",
       "        vertical-align: middle;\n",
       "    }\n",
       "\n",
       "    .dataframe tbody tr th {\n",
       "        vertical-align: top;\n",
       "    }\n",
       "\n",
       "    .dataframe thead th {\n",
       "        text-align: right;\n",
       "    }\n",
       "</style>\n",
       "<table border=\"1\" class=\"dataframe\">\n",
       "  <thead>\n",
       "    <tr style=\"text-align: right;\">\n",
       "      <th></th>\n",
       "      <th>demand</th>\n",
       "    </tr>\n",
       "    <tr>\n",
       "      <th>Pandas_Datestamp</th>\n",
       "      <th></th>\n",
       "    </tr>\n",
       "  </thead>\n",
       "  <tbody>\n",
       "    <tr>\n",
       "      <td>2017-06-01</td>\n",
       "      <td>1.0</td>\n",
       "    </tr>\n",
       "    <tr>\n",
       "      <td>2017-06-02</td>\n",
       "      <td>-1.0</td>\n",
       "    </tr>\n",
       "  </tbody>\n",
       "</table>\n",
       "</div>"
      ],
      "text/plain": [
       "                  demand\n",
       "Pandas_Datestamp        \n",
       "2017-06-01           1.0\n",
       "2017-06-02          -1.0"
      ]
     },
     "execution_count": 24,
     "metadata": {},
     "output_type": "execute_result"
    }
   ],
   "source": [
    "data5_diff=data5_diff[1:]\n",
    "data5_diff.head(2)"
   ]
  },
  {
   "cell_type": "code",
   "execution_count": 25,
   "metadata": {},
   "outputs": [
    {
     "data": {
      "image/png": "[encoded data removed]",
      "text/plain": [
       "<Figure size 432x288 with 1 Axes>"
      ]
     },
     "execution_count": 25,
     "metadata": {},
     "output_type": "execute_result"
    },
    {
     "data": {
      "image/png": "[encoded data removed]",
      "text/plain": [
       "<Figure size 432x288 with 1 Axes>"
      ]
     },
     "metadata": {
      "needs_background": "light"
     },
     "output_type": "display_data"
    }
   ],
   "source": [
    "plot_acf(data5_diff)"
   ]
  },
  {
   "cell_type": "code",
   "execution_count": 26,
   "metadata": {},
   "outputs": [],
   "source": [
    "X=data5.values\n",
    "train=X[0:400]\n",
    "test=X[400:]\n",
    "prediction=[]"
   ]
  },
  {
   "cell_type": "code",
   "execution_count": 27,
   "metadata": {},
   "outputs": [],
   "source": [
    "from  statsmodels.tsa.ar_model import AR\n",
    "from sklearn.metrics import mean_squared_error\n",
    "model_ar=AR(train)\n",
    "model_ar_fit=model_ar.fit()"
   ]
  },
  {
   "cell_type": "code",
   "execution_count": 28,
   "metadata": {},
   "outputs": [],
   "source": [
    "predictions=model_ar_fit.predict(start=400,end=500)"
   ]
  },
  {
   "cell_type": "code",
   "execution_count": 29,
   "metadata": {},
   "outputs": [
    {
     "data": {
      "text/plain": [
       "[<matplotlib.lines.Line2D at 0x28016ab5c88>]"
      ]
     },
     "execution_count": 29,
     "metadata": {},
     "output_type": "execute_result"
    },
    {
     "data": {
      "image/png": "[encoded data removed]",
      "text/plain": [
       "<Figure size 432x288 with 1 Axes>"
      ]
     },
     "metadata": {
      "needs_background": "light"
     },
     "output_type": "display_data"
    }
   ],
   "source": [
    "plt.plot(test)\n",
    "plt.plot(predictions,color='red')\n"
   ]
  },
  {
   "cell_type": "code",
   "execution_count": null,
   "metadata": {},
   "outputs": [],
   "source": []
  }
 ],
 "metadata": {
  "kernelspec": {
   "display_name": "Python 3",
   "language": "python",
   "name": "python3"
  },
  "language_info": {
   "codemirror_mode": {
    "name": "ipython",
    "version": 3
   },
   "file_extension": ".py",
   "mimetype": "text/x-python",
   "name": "python",
   "nbconvert_exporter": "python",
   "pygments_lexer": "ipython3",
   "version": "3.7.4"
  }
 },
 "nbformat": 4,
 "nbformat_minor": 2
}
