{
 "cells": [
  {
   "cell_type": "code",
   "execution_count": 21,
   "metadata": {},
   "outputs": [
    {
     "name": "stdout",
     "output_type": "stream",
     "text": [
      "Requirement already satisfied: gym in c:\\users\\dell\\anaconda3\\lib\\site-packages (0.15.4)\n",
      "Requirement already satisfied: six in c:\\users\\dell\\appdata\\roaming\\python\\python37\\site-packages (from gym) (1.12.0)\n",
      "Requirement already satisfied: opencv-python in c:\\users\\dell\\anaconda3\\lib\\site-packages (from gym) (4.1.2.30)\n",
      "Requirement already satisfied: scipy in c:\\users\\dell\\anaconda3\\lib\\site-packages (from gym) (1.4.1)\n",
      "Requirement already satisfied: pyglet<=1.3.2,>=1.2.0 in c:\\users\\dell\\anaconda3\\lib\\site-packages (from gym) (1.3.2)\n",
      "Requirement already satisfied: cloudpickle~=1.2.0 in c:\\users\\dell\\anaconda3\\lib\\site-packages (from gym) (1.2.2)\n",
      "Requirement already satisfied: numpy>=1.10.4 in c:\\users\\dell\\anaconda3\\lib\\site-packages (from gym) (1.16.5)\n",
      "Requirement already satisfied: future in c:\\users\\dell\\anaconda3\\lib\\site-packages (from pyglet<=1.3.2,>=1.2.0->gym) (0.17.1)\n",
      "Note: you may need to restart the kernel to use updated packages.\n"
     ]
    }
   ],
   "source": [
    "pip install gym"
   ]
  },
  {
   "cell_type": "code",
   "execution_count": 22,
   "metadata": {},
   "outputs": [
    {
     "name": "stdout",
     "output_type": "stream",
     "text": [
      "+---------+\n",
      "|\u001b[34;1mR\u001b[0m: | : :G|\n",
      "| : | : : |\n",
      "| :\u001b[43m \u001b[0m: : : |\n",
      "| | : | : |\n",
      "|\u001b[35mY\u001b[0m| : |B: |\n",
      "+---------+\n",
      "\n"
     ]
    }
   ],
   "source": [
    "import gym\n",
    "env=gym.make(\"Taxi-v3\").env\n",
    "env.render()"
   ]
  },
  {
   "cell_type": "code",
   "execution_count": 23,
   "metadata": {},
   "outputs": [
    {
     "name": "stdout",
     "output_type": "stream",
     "text": [
      "+---------+\n",
      "|\u001b[34;1mR\u001b[0m: | : :G|\n",
      "| : | : : |\n",
      "| :\u001b[43m \u001b[0m: : : |\n",
      "| | : | : |\n",
      "|\u001b[35mY\u001b[0m| : |B: |\n",
      "+---------+\n",
      "\n"
     ]
    }
   ],
   "source": [
    "env.render()"
   ]
  },
  {
   "cell_type": "code",
   "execution_count": 24,
   "metadata": {},
   "outputs": [
    {
     "name": "stdout",
     "output_type": "stream",
     "text": [
      "+---------+\n",
      "|R: | : :G|\n",
      "| : | : : |\n",
      "| : : : : |\n",
      "| | : | : |\n",
      "|\u001b[35mY\u001b[0m| : |\u001b[34;1m\u001b[43mB\u001b[0m\u001b[0m: |\n",
      "+---------+\n",
      "\n",
      "Action space Discrete(6)\n",
      "State space Discrete(500)\n"
     ]
    }
   ],
   "source": [
    "env.reset() # reset environment to a new , random state\n",
    "env.render()\n",
    "\n",
    "print(\"Action space {}\".format(env.action_space))\n",
    "print(\"State space {}\".format(env.observation_space))"
   ]
  },
  {
   "cell_type": "code",
   "execution_count": 25,
   "metadata": {},
   "outputs": [
    {
     "name": "stdout",
     "output_type": "stream",
     "text": [
      "State:  248\n",
      "+---------+\n",
      "|\u001b[35mR\u001b[0m: | : :G|\n",
      "| : | : : |\n",
      "| : :\u001b[43m \u001b[0m: : |\n",
      "| | : | : |\n",
      "|\u001b[34;1mY\u001b[0m| : |B: |\n",
      "+---------+\n",
      "\n"
     ]
    }
   ],
   "source": [
    "state=env.encode(2,2,2,0)\n",
    "print(\"State: \",state)\n",
    "env.s=state\n",
    "env.render()"
   ]
  },
  {
   "cell_type": "code",
   "execution_count": 26,
   "metadata": {},
   "outputs": [
    {
     "data": {
      "text/plain": [
       "{0: [(1.0, 428, -1, False)],\n",
       " 1: [(1.0, 228, -1, False)],\n",
       " 2: [(1.0, 348, -1, False)],\n",
       " 3: [(1.0, 328, -1, False)],\n",
       " 4: [(1.0, 328, -10, False)],\n",
       " 5: [(1.0, 328, -10, False)]}"
      ]
     },
     "execution_count": 26,
     "metadata": {},
     "output_type": "execute_result"
    }
   ],
   "source": [
    "env.P[328]"
   ]
  },
  {
   "cell_type": "code",
   "execution_count": 28,
   "metadata": {},
   "outputs": [
    {
     "name": "stdout",
     "output_type": "stream",
     "text": [
      "Timesteps taken: 739\n",
      "Penalties incurred:229\n"
     ]
    }
   ],
   "source": [
    "env.s=328\n",
    "epochs=0\n",
    "penalties,reward=0,0\n",
    "frames=[]\n",
    "done=False\n",
    "while not done:\n",
    "    action=env.action_space.sample()\n",
    "    state,reward,done,info=env.step(action)\n",
    "    \n",
    "    if reward ==-10:\n",
    "        penalties+=1\n",
    "        \n",
    "    frames.append({\n",
    "        'frame':env.render(mode='ansi'),\n",
    "        'state':state,\n",
    "        'action':action,\n",
    "        'reward':reward\n",
    "    }\n",
    "    )\n",
    "    epochs+=1\n",
    "print(\"Timesteps taken: {}\".format(epochs))\n",
    "print(\"Penalties incurred:{}\".format(penalties))"
   ]
  },
  {
   "cell_type": "code",
   "execution_count": 29,
   "metadata": {},
   "outputs": [
    {
     "name": "stdout",
     "output_type": "stream",
     "text": [
      "+---------+\n",
      "|\u001b[35m\u001b[34;1m\u001b[43mR\u001b[0m\u001b[0m\u001b[0m: | : :G|\n",
      "| : | : : |\n",
      "| : : : : |\n",
      "| | : | : |\n",
      "|Y| : |B: |\n",
      "+---------+\n",
      "  (Dropoff)\n",
      "\n",
      "Timestep: 739\n",
      "State: 0\n",
      "Action:5\n",
      "Reward:20\n"
     ]
    }
   ],
   "source": [
    "from IPython.display import clear_output\n",
    "from time import sleep\n",
    "\n",
    "def print_frames(frames):\n",
    "    for i,frame in enumerate(frames):\n",
    "        clear_output(wait=True)\n",
    "        print(frame['frame'])\n",
    "        print(f\"Timestep: {i+1}\")\n",
    "        print(f\"State: {frame['state']}\")\n",
    "        print(f\"Action:{frame['action']}\")\n",
    "        print(f\"Reward:{frame['reward']}\")\n",
    "        sleep(.1)\n",
    "              \n",
    "print_frames(frames)"
   ]
  },
  {
   "cell_type": "code",
   "execution_count": 30,
   "metadata": {},
   "outputs": [],
   "source": [
    "import numpy as np\n",
    "q_table=np.zeros([env.observation_space.n,env.action_space.n])"
   ]
  },
  {
   "cell_type": "code",
   "execution_count": 32,
   "metadata": {},
   "outputs": [
    {
     "name": "stdout",
     "output_type": "stream",
     "text": [
      "Episode:100000\n",
      "Training finished\n",
      "\n",
      "Wall time: 2min 10s\n"
     ]
    }
   ],
   "source": [
    "%%time\n",
    "\"\"\"Training the agent\"\"\"\n",
    "import random\n",
    "from IPython.display import clear_output\n",
    "\n",
    "#Hyperparameters\n",
    "alpha=0.1\n",
    "gamma=0.6\n",
    "epsilon=0.1\n",
    "\n",
    "# plotting metrics\n",
    "all_epochs=[]\n",
    "all_penalties=[]\n",
    "\n",
    "for i in range(1,100001):\n",
    "    state=env.reset()\n",
    "    \n",
    "    epochs,penalties,reward,=0,0,0\n",
    "    done=False\n",
    "    \n",
    "    while not done:\n",
    "        if random.uniform(0,1)<epsilon:\n",
    "            action=env.action_space.sample()\n",
    "        else:\n",
    "            action=np.argmax(q_table[state])\n",
    "        next_state,reward,done,info=env.step(action)\n",
    "        \n",
    "        old_value=q_table[state,action]\n",
    "        next_max=np.max(q_table[next_state])\n",
    "        \n",
    "        new_value=(1-alpha)*old_value+alpha*(reward+gamma*next_max)\n",
    "        q_table[state,action]=new_value\n",
    "        \n",
    "        if reward==-10:\n",
    "            penalties+=1\n",
    "        \n",
    "        state=next_state\n",
    "        epochs+=1\n",
    "        \n",
    "    if i % 100 ==0:\n",
    "        clear_output(wait=True)\n",
    "        print(f\"Episode:{i}\")\n",
    "print(\"Training finished\\n\")\n"
   ]
  },
  {
   "cell_type": "code",
   "execution_count": 33,
   "metadata": {},
   "outputs": [
    {
     "data": {
      "text/plain": [
       "array([ -2.39596226,  -2.27325184,  -2.41232531,  -2.36195904,\n",
       "       -10.91297785, -10.60637925])"
      ]
     },
     "execution_count": 33,
     "metadata": {},
     "output_type": "execute_result"
    }
   ],
   "source": [
    "q_table[328]"
   ]
  },
  {
   "cell_type": "code",
   "execution_count": 39,
   "metadata": {},
   "outputs": [
    {
     "name": "stdout",
     "output_type": "stream",
     "text": [
      "+---------+\n",
      "|R: | : :G|\n",
      "| : | : : |\n",
      "| : : : : |\n",
      "| | : | : |\n",
      "|\u001b[35m\u001b[34;1m\u001b[43mY\u001b[0m\u001b[0m\u001b[0m| : |B: |\n",
      "+---------+\n",
      "  (Dropoff)\n",
      "Results after 50 episodes:\n",
      "Average timesteps per episode: 12.4\n",
      "Average penalties per episode: 0.0\n"
     ]
    }
   ],
   "source": [
    "\"\"\" Evaluate agent's performance after Q-learning \"\"\"\n",
    "total_epochs,total_penalties=0,0\n",
    "episodes=50\n",
    "\n",
    "for _ in range(episodes):\n",
    "    state=env.reset()\n",
    "    epochs,penalties,reward=0,0,0\n",
    "    done=False\n",
    "    \n",
    "    while not done:\n",
    "        action= np.argmax(q_table[state])\n",
    "        state,reward,done,info=env.step(action)\n",
    "        \n",
    "        if reward==-10:\n",
    "            penalties+=1\n",
    "        \n",
    "        epochs+=1\n",
    "        clear_output(wait=True)\n",
    "        env.render()\n",
    "        sleep(0.1)\n",
    "    total_penalties+=penalties\n",
    "    total_epochs+=epochs\n",
    "print(f\"Results after {episodes} episodes:\")\n",
    "print(f\"Average timesteps per episode: {total_epochs/episodes}\")\n",
    "print(f\"Average penalties per episode: {total_penalties/episodes}\")"
   ]
  },
  {
   "cell_type": "code",
   "execution_count": null,
   "metadata": {},
   "outputs": [],
   "source": []
  },
  {
   "cell_type": "code",
   "execution_count": null,
   "metadata": {},
   "outputs": [],
   "source": []
  }
 ],
 "metadata": {
  "kernelspec": {
   "display_name": "Python 3",
   "language": "python",
   "name": "python3"
  },
  "language_info": {
   "codemirror_mode": {
    "name": "ipython",
    "version": 3
   },
   "file_extension": ".py",
   "mimetype": "text/x-python",
   "name": "python",
   "nbconvert_exporter": "python",
   "pygments_lexer": "ipython3",
   "version": "3.7.4"
  }
 },
 "nbformat": 4,
 "nbformat_minor": 2
}
