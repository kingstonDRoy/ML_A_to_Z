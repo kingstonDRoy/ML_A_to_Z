{
 "cells": [
  {
   "cell_type": "markdown",
   "id": "2c95cb79",
   "metadata": {},
   "source": [
    "<h2 style=\"text-align: center;\">Machine Learning Pipeline using Decison Tree Algorithm\n",
    "</h2>\n"
   ]
  },
  {
   "cell_type": "markdown",
   "id": "ac5ef918",
   "metadata": {},
   "source": [
    "<h3 style=\"text-align: center;\">Libraries\n",
    "</h3>\n"
   ]
  },
  {
   "cell_type": "code",
   "execution_count": 60,
   "id": "cb963a90",
   "metadata": {},
   "outputs": [],
   "source": [
    "import pandas as pd\n",
    "import numpy as np\n",
    "from sklearn.preprocessing import LabelEncoder, StandardScaler\n",
    "from sklearn.model_selection import train_test_split\n",
    "from sklearn.tree import DecisionTreeClassifier\n",
    "from sklearn.metrics import accuracy_score\n",
    "import matplotlib.pyplot as plt\n",
    "from sklearn.tree import plot_tree\n",
    "from sklearn.metrics import confusion_matrix, classification_report"
   ]
  },
  {
   "cell_type": "markdown",
   "id": "9d4615a5",
   "metadata": {},
   "source": [
    "<h3 style=\"text-align: center;\">Loading Data\n",
    "</h3>\n"
   ]
  },
  {
   "cell_type": "code",
   "execution_count": 2,
   "id": "df7c1ffa",
   "metadata": {},
   "outputs": [],
   "source": [
    "data = pd.read_csv(\"car_evaluation.csv\")"
   ]
  },
  {
   "cell_type": "code",
   "execution_count": 3,
   "id": "782328cd",
   "metadata": {},
   "outputs": [
    {
     "data": {
      "text/html": [
       "<div>\n",
       "<style scoped>\n",
       "    .dataframe tbody tr th:only-of-type {\n",
       "        vertical-align: middle;\n",
       "    }\n",
       "\n",
       "    .dataframe tbody tr th {\n",
       "        vertical-align: top;\n",
       "    }\n",
       "\n",
       "    .dataframe thead th {\n",
       "        text-align: right;\n",
       "    }\n",
       "</style>\n",
       "<table border=\"1\" class=\"dataframe\">\n",
       "  <thead>\n",
       "    <tr style=\"text-align: right;\">\n",
       "      <th></th>\n",
       "      <th>vhigh</th>\n",
       "      <th>vhigh.1</th>\n",
       "      <th>2</th>\n",
       "      <th>2.1</th>\n",
       "      <th>small</th>\n",
       "      <th>low</th>\n",
       "      <th>unacc</th>\n",
       "    </tr>\n",
       "  </thead>\n",
       "  <tbody>\n",
       "    <tr>\n",
       "      <th>0</th>\n",
       "      <td>vhigh</td>\n",
       "      <td>vhigh</td>\n",
       "      <td>2</td>\n",
       "      <td>2</td>\n",
       "      <td>small</td>\n",
       "      <td>med</td>\n",
       "      <td>unacc</td>\n",
       "    </tr>\n",
       "    <tr>\n",
       "      <th>1</th>\n",
       "      <td>vhigh</td>\n",
       "      <td>vhigh</td>\n",
       "      <td>2</td>\n",
       "      <td>2</td>\n",
       "      <td>small</td>\n",
       "      <td>high</td>\n",
       "      <td>unacc</td>\n",
       "    </tr>\n",
       "    <tr>\n",
       "      <th>2</th>\n",
       "      <td>vhigh</td>\n",
       "      <td>vhigh</td>\n",
       "      <td>2</td>\n",
       "      <td>2</td>\n",
       "      <td>med</td>\n",
       "      <td>low</td>\n",
       "      <td>unacc</td>\n",
       "    </tr>\n",
       "    <tr>\n",
       "      <th>3</th>\n",
       "      <td>vhigh</td>\n",
       "      <td>vhigh</td>\n",
       "      <td>2</td>\n",
       "      <td>2</td>\n",
       "      <td>med</td>\n",
       "      <td>med</td>\n",
       "      <td>unacc</td>\n",
       "    </tr>\n",
       "    <tr>\n",
       "      <th>4</th>\n",
       "      <td>vhigh</td>\n",
       "      <td>vhigh</td>\n",
       "      <td>2</td>\n",
       "      <td>2</td>\n",
       "      <td>med</td>\n",
       "      <td>high</td>\n",
       "      <td>unacc</td>\n",
       "    </tr>\n",
       "  </tbody>\n",
       "</table>\n",
       "</div>"
      ],
      "text/plain": [
       "   vhigh vhigh.1  2 2.1  small   low  unacc\n",
       "0  vhigh   vhigh  2   2  small   med  unacc\n",
       "1  vhigh   vhigh  2   2  small  high  unacc\n",
       "2  vhigh   vhigh  2   2    med   low  unacc\n",
       "3  vhigh   vhigh  2   2    med   med  unacc\n",
       "4  vhigh   vhigh  2   2    med  high  unacc"
      ]
     },
     "execution_count": 3,
     "metadata": {},
     "output_type": "execute_result"
    }
   ],
   "source": [
    "data.head()"
   ]
  },
  {
   "cell_type": "code",
   "execution_count": 5,
   "id": "dc9eca95",
   "metadata": {},
   "outputs": [
    {
     "data": {
      "text/plain": [
       "Index(['vhigh', 'vhigh.1', '2', '2.1', 'small', 'low', 'unacc'], dtype='object')"
      ]
     },
     "execution_count": 5,
     "metadata": {},
     "output_type": "execute_result"
    }
   ],
   "source": [
    "data.columns"
   ]
  },
  {
   "cell_type": "markdown",
   "id": "7e2f2292",
   "metadata": {},
   "source": [
    "<h3 style=\"text-align: center;\">Changing Column Names\n",
    "</h3>\n"
   ]
  },
  {
   "cell_type": "code",
   "execution_count": 6,
   "id": "588e02bd",
   "metadata": {},
   "outputs": [],
   "source": [
    "new_column_names = {\n",
    "    'vhigh': 'Buying Price',\n",
    "    'vhigh.1': 'Maintenance Price',\n",
    "    '2': 'Number of Doors',\n",
    "    '2.1': 'Number of Seats',\n",
    "    'small': 'Luggage Boot Size',\n",
    "    'low': 'Safety Rating',\n",
    "    'unacc': 'Acceptability'\n",
    "}\n",
    "\n",
    "data.rename(columns=new_column_names, inplace=True)\n"
   ]
  },
  {
   "cell_type": "code",
   "execution_count": 12,
   "id": "f43359e9",
   "metadata": {},
   "outputs": [
    {
     "data": {
      "text/html": [
       "<div>\n",
       "<style scoped>\n",
       "    .dataframe tbody tr th:only-of-type {\n",
       "        vertical-align: middle;\n",
       "    }\n",
       "\n",
       "    .dataframe tbody tr th {\n",
       "        vertical-align: top;\n",
       "    }\n",
       "\n",
       "    .dataframe thead th {\n",
       "        text-align: right;\n",
       "    }\n",
       "</style>\n",
       "<table border=\"1\" class=\"dataframe\">\n",
       "  <thead>\n",
       "    <tr style=\"text-align: right;\">\n",
       "      <th></th>\n",
       "      <th>Buying Price</th>\n",
       "      <th>Maintenance Price</th>\n",
       "      <th>Number of Doors</th>\n",
       "      <th>Number of Seats</th>\n",
       "      <th>Luggage Boot Size</th>\n",
       "      <th>Safety Rating</th>\n",
       "      <th>Acceptability</th>\n",
       "    </tr>\n",
       "  </thead>\n",
       "  <tbody>\n",
       "    <tr>\n",
       "      <th>0</th>\n",
       "      <td>vhigh</td>\n",
       "      <td>vhigh</td>\n",
       "      <td>2</td>\n",
       "      <td>2</td>\n",
       "      <td>small</td>\n",
       "      <td>med</td>\n",
       "      <td>unacc</td>\n",
       "    </tr>\n",
       "    <tr>\n",
       "      <th>1</th>\n",
       "      <td>vhigh</td>\n",
       "      <td>vhigh</td>\n",
       "      <td>2</td>\n",
       "      <td>2</td>\n",
       "      <td>small</td>\n",
       "      <td>high</td>\n",
       "      <td>unacc</td>\n",
       "    </tr>\n",
       "    <tr>\n",
       "      <th>2</th>\n",
       "      <td>vhigh</td>\n",
       "      <td>vhigh</td>\n",
       "      <td>2</td>\n",
       "      <td>2</td>\n",
       "      <td>med</td>\n",
       "      <td>low</td>\n",
       "      <td>unacc</td>\n",
       "    </tr>\n",
       "    <tr>\n",
       "      <th>3</th>\n",
       "      <td>vhigh</td>\n",
       "      <td>vhigh</td>\n",
       "      <td>2</td>\n",
       "      <td>2</td>\n",
       "      <td>med</td>\n",
       "      <td>med</td>\n",
       "      <td>unacc</td>\n",
       "    </tr>\n",
       "    <tr>\n",
       "      <th>4</th>\n",
       "      <td>vhigh</td>\n",
       "      <td>vhigh</td>\n",
       "      <td>2</td>\n",
       "      <td>2</td>\n",
       "      <td>med</td>\n",
       "      <td>high</td>\n",
       "      <td>unacc</td>\n",
       "    </tr>\n",
       "    <tr>\n",
       "      <th>5</th>\n",
       "      <td>vhigh</td>\n",
       "      <td>vhigh</td>\n",
       "      <td>2</td>\n",
       "      <td>2</td>\n",
       "      <td>big</td>\n",
       "      <td>low</td>\n",
       "      <td>unacc</td>\n",
       "    </tr>\n",
       "    <tr>\n",
       "      <th>6</th>\n",
       "      <td>vhigh</td>\n",
       "      <td>vhigh</td>\n",
       "      <td>2</td>\n",
       "      <td>2</td>\n",
       "      <td>big</td>\n",
       "      <td>med</td>\n",
       "      <td>unacc</td>\n",
       "    </tr>\n",
       "  </tbody>\n",
       "</table>\n",
       "</div>"
      ],
      "text/plain": [
       "  Buying Price Maintenance Price Number of Doors Number of Seats  \\\n",
       "0        vhigh             vhigh               2               2   \n",
       "1        vhigh             vhigh               2               2   \n",
       "2        vhigh             vhigh               2               2   \n",
       "3        vhigh             vhigh               2               2   \n",
       "4        vhigh             vhigh               2               2   \n",
       "5        vhigh             vhigh               2               2   \n",
       "6        vhigh             vhigh               2               2   \n",
       "\n",
       "  Luggage Boot Size Safety Rating Acceptability  \n",
       "0             small           med         unacc  \n",
       "1             small          high         unacc  \n",
       "2               med           low         unacc  \n",
       "3               med           med         unacc  \n",
       "4               med          high         unacc  \n",
       "5               big           low         unacc  \n",
       "6               big           med         unacc  "
      ]
     },
     "execution_count": 12,
     "metadata": {},
     "output_type": "execute_result"
    }
   ],
   "source": [
    "data.head(7)"
   ]
  },
  {
   "cell_type": "code",
   "execution_count": 8,
   "id": "e0373770",
   "metadata": {},
   "outputs": [
    {
     "data": {
      "text/plain": [
       "Index(['Buying Price', 'Maintenance Price', 'Number of Doors',\n",
       "       'Number of Seats', 'Luggage Boot Size', 'Safety Rating',\n",
       "       'Acceptability'],\n",
       "      dtype='object')"
      ]
     },
     "execution_count": 8,
     "metadata": {},
     "output_type": "execute_result"
    }
   ],
   "source": [
    "data.columns"
   ]
  },
  {
   "cell_type": "code",
   "execution_count": 11,
   "id": "b7a377d0",
   "metadata": {},
   "outputs": [
    {
     "name": "stdout",
     "output_type": "stream",
     "text": [
      "Shape of the dataset: (1727, 7)\n"
     ]
    }
   ],
   "source": [
    "shape = data.shape\n",
    "print(\"Shape of the dataset:\",shape)"
   ]
  },
  {
   "cell_type": "markdown",
   "id": "829c4e9d",
   "metadata": {},
   "source": [
    "\n",
    "<h3 style=\"text-align: center;\">Data Preprocessing\n",
    "</h3>\n"
   ]
  },
  {
   "cell_type": "code",
   "execution_count": 15,
   "id": "26f158e2",
   "metadata": {},
   "outputs": [
    {
     "name": "stdout",
     "output_type": "stream",
     "text": [
      "Buying Price         0\n",
      "Maintenance Price    0\n",
      "Number of Doors      0\n",
      "Number of Seats      0\n",
      "Luggage Boot Size    0\n",
      "Safety Rating        0\n",
      "Acceptability        0\n",
      "dtype: int64\n"
     ]
    }
   ],
   "source": [
    "missing_values = data.isna().sum()\n",
    "\n",
    "print(missing_values)"
   ]
  },
  {
   "cell_type": "markdown",
   "id": "e48eaf5a",
   "metadata": {},
   "source": [
    "\n",
    "<h3 style=\"text-align: center;\">Encoding Data\n",
    "</h3>\n"
   ]
  },
  {
   "cell_type": "code",
   "execution_count": 17,
   "id": "6d8fc580",
   "metadata": {},
   "outputs": [],
   "source": [
    "label_encoders = {}"
   ]
  },
  {
   "cell_type": "code",
   "execution_count": 26,
   "id": "704c80c9",
   "metadata": {},
   "outputs": [],
   "source": [
    "categorical_columns = ['Buying Price', 'Maintenance Price', 'Luggage Boot Size', 'Safety Rating']\n",
    "for column in categorical_columns:\n",
    "    le = LabelEncoder()\n",
    "    data[column] = le.fit_transform(data[column])\n",
    "    label_encoders[column] = le"
   ]
  },
  {
   "cell_type": "code",
   "execution_count": 33,
   "id": "4eefa534",
   "metadata": {},
   "outputs": [
    {
     "data": {
      "text/html": [
       "<div>\n",
       "<style scoped>\n",
       "    .dataframe tbody tr th:only-of-type {\n",
       "        vertical-align: middle;\n",
       "    }\n",
       "\n",
       "    .dataframe tbody tr th {\n",
       "        vertical-align: top;\n",
       "    }\n",
       "\n",
       "    .dataframe thead th {\n",
       "        text-align: right;\n",
       "    }\n",
       "</style>\n",
       "<table border=\"1\" class=\"dataframe\">\n",
       "  <thead>\n",
       "    <tr style=\"text-align: right;\">\n",
       "      <th></th>\n",
       "      <th>Buying Price</th>\n",
       "      <th>Maintenance Price</th>\n",
       "      <th>Number of Doors</th>\n",
       "      <th>Number of Seats</th>\n",
       "      <th>Luggage Boot Size</th>\n",
       "      <th>Safety Rating</th>\n",
       "      <th>Acceptability</th>\n",
       "    </tr>\n",
       "  </thead>\n",
       "  <tbody>\n",
       "    <tr>\n",
       "      <th>1530</th>\n",
       "      <td>1</td>\n",
       "      <td>2</td>\n",
       "      <td>2</td>\n",
       "      <td>more</td>\n",
       "      <td>2</td>\n",
       "      <td>2</td>\n",
       "      <td>unacc</td>\n",
       "    </tr>\n",
       "  </tbody>\n",
       "</table>\n",
       "</div>"
      ],
      "text/plain": [
       "      Buying Price  Maintenance Price Number of Doors Number of Seats  \\\n",
       "1530             1                  2               2            more   \n",
       "\n",
       "      Luggage Boot Size  Safety Rating Acceptability  \n",
       "1530                  2              2         unacc  "
      ]
     },
     "execution_count": 33,
     "metadata": {},
     "output_type": "execute_result"
    }
   ],
   "source": [
    "data.sample()"
   ]
  },
  {
   "cell_type": "code",
   "execution_count": 35,
   "id": "aa653e4b",
   "metadata": {},
   "outputs": [],
   "source": [
    "data.loc[data['Number of Doors'] == '5more', 'Number of Doors'] = '5'\n",
    "data.loc[data['Number of Seats'] == 'more', 'Number of Seats'] = '5'\n"
   ]
  },
  {
   "cell_type": "code",
   "execution_count": 36,
   "id": "41b54a38",
   "metadata": {},
   "outputs": [
    {
     "data": {
      "text/plain": [
       "array(['2', '4', '5'], dtype=object)"
      ]
     },
     "execution_count": 36,
     "metadata": {},
     "output_type": "execute_result"
    }
   ],
   "source": [
    "data[\"Number of Seats\"].unique()"
   ]
  },
  {
   "cell_type": "code",
   "execution_count": 37,
   "id": "1483a69e",
   "metadata": {},
   "outputs": [],
   "source": [
    "numerical_columns = ['Number of Doors', 'Number of Seats']\n"
   ]
  },
  {
   "cell_type": "markdown",
   "id": "add78526",
   "metadata": {},
   "source": [
    "\n",
    "<h3 style=\"text-align: center;\">Data Scaling\n",
    "</h3>\n"
   ]
  },
  {
   "cell_type": "code",
   "execution_count": 38,
   "id": "cafd644b",
   "metadata": {},
   "outputs": [],
   "source": [
    "scaler = StandardScaler()"
   ]
  },
  {
   "cell_type": "code",
   "execution_count": 39,
   "id": "1236d532",
   "metadata": {},
   "outputs": [],
   "source": [
    "data[numerical_columns] = scaler.fit_transform(data[numerical_columns])\n"
   ]
  },
  {
   "cell_type": "markdown",
   "id": "878360ec",
   "metadata": {},
   "source": [
    "\n",
    "<h3 style=\"text-align: center;\">Independent and Dependent Datam\n",
    "</h3>\n"
   ]
  },
  {
   "cell_type": "code",
   "execution_count": 44,
   "id": "09f500da",
   "metadata": {},
   "outputs": [],
   "source": [
    "X = data.drop('Acceptability', axis=1)\n",
    "y = data['Acceptability']"
   ]
  },
  {
   "cell_type": "code",
   "execution_count": 51,
   "id": "acb5ab55",
   "metadata": {},
   "outputs": [],
   "source": [
    "X_train, X_test, y_train, y_test = train_test_split(\n",
    "    X, y, test_size=0.2, random_state=50,\n",
    "    shuffle=True, stratify=y, \n",
    ")"
   ]
  },
  {
   "cell_type": "markdown",
   "id": "6ba4cff2",
   "metadata": {},
   "source": [
    "\n",
    "<h3 style=\"text-align: center;\">Data Modelling\n",
    "</h3>\n"
   ]
  },
  {
   "cell_type": "code",
   "execution_count": 55,
   "id": "49c34406",
   "metadata": {},
   "outputs": [],
   "source": [
    "model = DecisionTreeClassifier(random_state=42)"
   ]
  },
  {
   "cell_type": "code",
   "execution_count": 56,
   "id": "5f7123cd",
   "metadata": {},
   "outputs": [
    {
     "data": {
      "text/plain": [
       "DecisionTreeClassifier(random_state=42)"
      ]
     },
     "execution_count": 56,
     "metadata": {},
     "output_type": "execute_result"
    }
   ],
   "source": [
    "model.fit(X_train, y_train)"
   ]
  },
  {
   "cell_type": "code",
   "execution_count": 57,
   "id": "4d9aba19",
   "metadata": {},
   "outputs": [],
   "source": [
    "y_pred = model.predict(X_test)"
   ]
  },
  {
   "cell_type": "code",
   "execution_count": 59,
   "id": "a22d1e8f",
   "metadata": {},
   "outputs": [
    {
     "name": "stdout",
     "output_type": "stream",
     "text": [
      "Accuracy: 0.9624277456647399\n"
     ]
    }
   ],
   "source": [
    "accuracy = accuracy_score(y_test,y_pred)\n",
    "print(\"Accuracy:\", accuracy)\n"
   ]
  },
  {
   "cell_type": "markdown",
   "id": "2e95c4e7",
   "metadata": {},
   "source": [
    "\n",
    "<h3 style=\"text-align: center;\">Decision Tree \n",
    "</h3>\n"
   ]
  },
  {
   "cell_type": "code",
   "execution_count": 61,
   "id": "eb5beb8d",
   "metadata": {},
   "outputs": [
    {
     "data": {
      "image/png": "[encoded data removed]",
      "text/plain": [
       "<Figure size 1000x600 with 1 Axes>"
      ]
     },
     "metadata": {},
     "output_type": "display_data"
    }
   ],
   "source": [
    "plt.figure(figsize=(10, 6))\n",
    "plot_tree(model, filled=True, feature_names=X.columns, class_names=model.classes_)\n",
    "plt.show()"
   ]
  },
  {
   "cell_type": "code",
   "execution_count": 62,
   "id": "e5e9d010",
   "metadata": {},
   "outputs": [],
   "source": [
    "conf_matrix = confusion_matrix(y_test, y_pred)"
   ]
  },
  {
   "cell_type": "code",
   "execution_count": 63,
   "id": "65a4a673",
   "metadata": {},
   "outputs": [],
   "source": [
    "class_report = classification_report(y_test, y_pred)\n"
   ]
  },
  {
   "cell_type": "markdown",
   "id": "0ba93562",
   "metadata": {},
   "source": [
    "\n",
    "<h3 style=\"text-align: center;\">Confusion Matrix and Classification Report\n",
    "</h3>\n"
   ]
  },
  {
   "cell_type": "code",
   "execution_count": 64,
   "id": "c05e02a4",
   "metadata": {},
   "outputs": [
    {
     "name": "stdout",
     "output_type": "stream",
     "text": [
      "Confusion Matrix:\n",
      " [[ 71   2   4   0]\n",
      " [  3  11   0   0]\n",
      " [  4   0 238   0]\n",
      " [  0   0   0  13]]\n",
      "\n",
      "Classification Report:\n",
      "               precision    recall  f1-score   support\n",
      "\n",
      "         acc       0.91      0.92      0.92        77\n",
      "        good       0.85      0.79      0.81        14\n",
      "       unacc       0.98      0.98      0.98       242\n",
      "       vgood       1.00      1.00      1.00        13\n",
      "\n",
      "    accuracy                           0.96       346\n",
      "   macro avg       0.93      0.92      0.93       346\n",
      "weighted avg       0.96      0.96      0.96       346\n",
      "\n"
     ]
    }
   ],
   "source": [
    "print(\"Confusion Matrix:\\n\", conf_matrix)\n",
    "print(\"\\nClassification Report:\\n\", class_report)"
   ]
  },
  {
   "cell_type": "code",
   "execution_count": null,
   "id": "8bea4579",
   "metadata": {},
   "outputs": [],
   "source": []
  }
 ],
 "metadata": {
  "kernelspec": {
   "display_name": "Python 3 (ipykernel)",
   "language": "python",
   "name": "python3"
  },
  "language_info": {
   "codemirror_mode": {
    "name": "ipython",
    "version": 3
   },
   "file_extension": ".py",
   "mimetype": "text/x-python",
   "name": "python",
   "nbconvert_exporter": "python",
   "pygments_lexer": "ipython3",
   "version": "3.9.13"
  }
 },
 "nbformat": 4,
 "nbformat_minor": 5
}
